{
 "cells": [
  {
   "cell_type": "code",
   "execution_count": 6,
   "id": "523925a2",
   "metadata": {},
   "outputs": [],
   "source": [
    "from bertopic import BERTopic\n",
    "from sklearn.datasets import fetch_20newsgroups \n",
    "import torch \n",
    "import pandas as pd\n",
    "import numpy as np"
   ]
  },
  {
   "cell_type": "code",
   "execution_count": 21,
   "id": "ad47d37b",
   "metadata": {},
   "outputs": [],
   "source": [
    "#### Returns a tuple the first element is document_to_topic_tensor\n",
    "#### The second element is topic_to_word_tensor \n",
    "#### Use the nr_topics_1 argument to specify the number of topics that should be present finally. If this parameter is too low\n",
    "#### take a lot of time.\n",
    "#### Use the words_per_topic argument to specify the number of representative words per topic. \n",
    "\n",
    "def generate_matrices(X,word_to_index, words_per_topic = 10,nr_topics_1 = None): \n",
    "    ### get target topics and probabilities of each document topic pair\n",
    "    model = BERTopic(calculate_probabilities  = True , top_n_words = 10,nr_topics = nr_topics_1) \n",
    "    topics,probs = model.fit_transform(X) \n",
    "    \n",
    "    ### calclate remaining topic probability as 1 - sum of given topic probabilities.\n",
    "    document_to_topic_bas = probs  \n",
    "    document_to_topic = [] \n",
    "    for i in range(len(document_to_topic_bas)): \n",
    "        sum1 = 0.0 \n",
    "        for j in document_to_topic_bas[i]: \n",
    "            sum1 = sum1 + j \n",
    "        templ = [max(1-sum1,0.0)] \n",
    "        for j in document_to_topic_bas[i]: \n",
    "            templ.append(j) \n",
    "        document_to_topic.append(templ) \n",
    "    \n",
    "    \n",
    "    \n",
    "    #print(topics[0] , document_to_topic[0])  \n",
    "    \n",
    "    vocab_len = len(list(word_to_index.items())) \n",
    "    \n",
    "    topic_to_word_dict  = model.get_topics()\n",
    "    topic_len = len(list(topic_to_word_dict.items())) \n",
    "  \n",
    "    ## initialize topic_to_word matrix\n",
    "    topic_to_word = [] \n",
    "    for i in range(topic_len):  \n",
    "        temparr = []\n",
    "        for j in range(vocab_len): \n",
    "            temparr.append(0) \n",
    "        topic_to_word.append(temparr) \n",
    "    \n",
    "    \n",
    "    for i in topic_to_word_dict: \n",
    "        temparr = topic_to_word_dict[i] \n",
    "        size = len(temparr) \n",
    "        for j in range(size): \n",
    "            if(temparr[j][0] in word_to_index): \n",
    "                 ## make sure that -1 corresponds to 0\n",
    "                topic_to_word[i+1][word_to_index[temparr[j][0]]] = temparr[j][1]  \n",
    "    \n",
    "    ## convert to pytorch tensors.\n",
    "    document_to_topic_tens = torch.tensor(document_to_topic) \n",
    "    topic_to_word_tens= torch.tensor(topic_to_word) \n",
    "    \n",
    "    return (document_to_topic_tens,topic_to_word_tens) \n",
    "            \n"
   ]
  },
  {
   "cell_type": "code",
   "execution_count": 7,
   "id": "63cb34fc",
   "metadata": {},
   "outputs": [],
   "source": [
    "docs = pd.read_csv('FNC_Bin_Train.csv')\n",
    "\n"
   ]
  },
  {
   "cell_type": "code",
   "execution_count": 12,
   "id": "63d60e88",
   "metadata": {},
   "outputs": [
    {
     "name": "stdout",
     "output_type": "stream",
     "text": [
      "Index(['Body ID', 'articleBody', 'Headline', 'Stance'], dtype='object')\n",
      "Recently, a second-grader from Kohl Isilkulsky District accidentally discovered his ability superhero. Seven-year student may be attracted to metal objects and even move them from a distance.\n",
      "\n",
      "About supernormal schoolboy entire Omsk region learned from the report \"12 channel\" .\n",
      "\n",
      "Nicholas Kruglyachenko schoolboy from Isilkul:\n",
      "\n",
      " - When I do not even want, everything appears. Once I even pulled glass. He moved on its own. Practically I think to become a superhero.\n",
      "\n",
      " \n",
      "\n",
      "Touching the boy may even affect others and pass them superpowers. Second graders can influence others so that people at the time turned into magnets. \n",
      "\n",
      "---\n",
      "\n",
      "Photo: gtrk-omsk.ruSchoolboy almost killed by electric shock claims he now has superpowers like Magneto\n"
     ]
    }
   ],
   "source": [
    "print(docs.columns) \n",
    "newser = docs['articleBody'] + docs['Headline'] \n",
    "print(newser.values[0])"
   ]
  },
  {
   "cell_type": "code",
   "execution_count": 3,
   "id": "ed790756",
   "metadata": {},
   "outputs": [],
   "source": [
    "def get_word_pos():  \n",
    "    word_to_index = dict() \n",
    "    count0 = 0\n",
    "    with open('glove.6B.100d.txt' , 'r',encoding = 'utf-8') as f1: \n",
    "        for line in f1: \n",
    "            lis = line.split() \n",
    "            word_to_index[lis[0]] = count0 \n",
    "            count0 = count0+1 \n",
    "    return word_to_index"
   ]
  },
  {
   "cell_type": "code",
   "execution_count": 4,
   "id": "2a1c46c7",
   "metadata": {},
   "outputs": [],
   "source": [
    "imp_dict= get_word_pos() \n"
   ]
  },
  {
   "cell_type": "code",
   "execution_count": 14,
   "id": "e5087878",
   "metadata": {},
   "outputs": [
    {
     "name": "stdout",
     "output_type": "stream",
     "text": [
      "<class 'list'>\n",
      "(',', 1)\n",
      "400000\n"
     ]
    }
   ],
   "source": [
    "print(type(list(imp_dict.items()))) \n",
    "i_l = list(imp_dict.items()) \n",
    "print(i_l[1])  \n",
    "print(len(i_l))"
   ]
  },
  {
   "cell_type": "code",
   "execution_count": 22,
   "id": "d3cf2b78",
   "metadata": {},
   "outputs": [],
   "source": [
    "X,Y = generate_matrices(newser.values[:1500],imp_dict,nr_topics_1 = 20) "
   ]
  },
  {
   "cell_type": "code",
   "execution_count": 17,
   "id": "9c24b50a",
   "metadata": {},
   "outputs": [
    {
     "name": "stdout",
     "output_type": "stream",
     "text": [
      "tensor([[ 3.8936e-01,  2.1464e-02,  2.2991e-01,  ...,  1.0506e-02,\n",
      "          2.9568e-02,  1.2574e-02],\n",
      "        [ 0.0000e+00, 1.6952e-308, 1.2593e-308,  ...,  1.0000e+00,\n",
      "         1.2909e-308, 8.8370e-309],\n",
      "        [ 3.4745e-02,  1.8563e-02,  3.0176e-02,  ...,  7.0073e-03,\n",
      "          2.7917e-02,  8.1383e-03],\n",
      "        ...,\n",
      "        [ 0.0000e+00, 8.1445e-308, 2.4800e-308,  ..., 1.9953e-308,\n",
      "         2.2728e-308, 1.1727e-308],\n",
      "        [ 8.8858e-03,  1.5717e-03,  1.7658e-03,  ...,  9.7891e-04,\n",
      "          2.8310e-03,  1.0006e-03],\n",
      "        [ 0.0000e+00, 2.3957e-308, 2.9623e-308,  ..., 1.9622e-308,\n",
      "         2.4439e-308, 1.2282e-308]], dtype=torch.float64)\n"
     ]
    }
   ],
   "source": [
    "print(X)"
   ]
  },
  {
   "cell_type": "code",
   "execution_count": 23,
   "id": "f45ef96f",
   "metadata": {},
   "outputs": [
    {
     "name": "stdout",
     "output_type": "stream",
     "text": [
      "torch.Size([1500, 21])\n",
      "torch.Size([21, 400000])\n"
     ]
    }
   ],
   "source": [
    "print(X.size()) \n",
    "print(Y.size())"
   ]
  },
  {
   "cell_type": "code",
   "execution_count": null,
   "id": "d1bb7b3d",
   "metadata": {},
   "outputs": [],
   "source": []
  }
 ],
 "metadata": {
  "kernelspec": {
   "display_name": "Python 3 (ipykernel)",
   "language": "python",
   "name": "python3"
  },
  "language_info": {
   "codemirror_mode": {
    "name": "ipython",
    "version": 3
   },
   "file_extension": ".py",
   "mimetype": "text/x-python",
   "name": "python",
   "nbconvert_exporter": "python",
   "pygments_lexer": "ipython3",
   "version": "3.9.7"
  }
 },
 "nbformat": 4,
 "nbformat_minor": 5
}

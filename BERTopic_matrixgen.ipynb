{
 "cells": [
  {
   "cell_type": "code",
   "execution_count": 11,
   "id": "523925a2",
   "metadata": {},
   "outputs": [],
   "source": [
    "from bertopic import BERTopic\n",
    "from sklearn.datasets import fetch_20newsgroups \n",
    "import torch \n",
    "import pandas as pd\n",
    "import numpy as np"
   ]
  },
  {
   "cell_type": "code",
   "execution_count": 2,
   "id": "ad47d37b",
   "metadata": {},
   "outputs": [],
   "source": [
    "#### Returns a tuple the first element is document_to_topic_tensor\n",
    "#### The second element is topic_to_word_tensor \n",
    "#### Use the nr_topics_1 argument to specify the number of topics that should be present finally. If this parameter is too low\n",
    "#### take a lot of time.\n",
    "#### Use the words_per_topic argument to specify the number of representative words per topic. \n",
    "\n",
    "def generate_matrices(X,word_to_index, words_per_topic = 10,nr_topics_1 = None): \n",
    "    ### get target topics and probabilities of each document topic pair\n",
    "    model = BERTopic(calculate_probabilities  = True , top_n_words = words_per_topic,nr_topics = nr_topics_1) \n",
    "    topics,probs = model.fit_transform(X) \n",
    "    \n",
    "    ### calclate remaining topic probability as 1 - sum of given topic probabilities.\n",
    "    document_to_topic_bas = probs  \n",
    "    document_to_topic = [] \n",
    "    for i in range(len(document_to_topic_bas)): \n",
    "        sum1 = 0.0 \n",
    "        for j in document_to_topic_bas[i]: \n",
    "            sum1 = sum1 + j \n",
    "        templ = [max(1-sum1,0.0)] \n",
    "        for j in document_to_topic_bas[i]: \n",
    "            templ.append(j) \n",
    "        document_to_topic.append(templ) \n",
    "    \n",
    "    \n",
    "    \n",
    "    #print(topics[0] , document_to_topic[0])  \n",
    "    \n",
    "    vocab_len = len(list(word_to_index.items())) \n",
    "    \n",
    "    topic_to_word_dict  = model.get_topics()\n",
    "    topic_len = len(list(topic_to_word_dict.items())) \n",
    "  \n",
    "    ## initialize topic_to_word matrix\n",
    "    topic_to_word = [] \n",
    "    for i in range(topic_len):  \n",
    "        temparr = []\n",
    "        for j in range(vocab_len): \n",
    "            temparr.append(0) \n",
    "        topic_to_word.append(temparr) \n",
    "    \n",
    "    \n",
    "    for i in topic_to_word_dict: \n",
    "        temparr = topic_to_word_dict[i] \n",
    "        size = len(temparr) \n",
    "        for j in range(size): \n",
    "            if(temparr[j][0] in word_to_index): \n",
    "                 ## make sure that -1 corresponds to 0\n",
    "                topic_to_word[i+1][word_to_index[temparr[j][0]]] = temparr[j][1]  \n",
    "    \n",
    "    ## convert to pytorch tensors.\n",
    "    document_to_topic_tens = torch.tensor(document_to_topic) \n",
    "    topic_to_word_tens= torch.tensor(topic_to_word) \n",
    "    \n",
    "    return (document_to_topic_tens,topic_to_word_tens) \n",
    "            \n"
   ]
  },
  {
   "cell_type": "code",
   "execution_count": 3,
   "id": "63cb34fc",
   "metadata": {},
   "outputs": [],
   "source": [
    "docs = pd.read_csv('FNC_Bin_Train.csv')\n",
    "\n"
   ]
  },
  {
   "cell_type": "code",
   "execution_count": 4,
   "id": "63d60e88",
   "metadata": {},
   "outputs": [
    {
     "name": "stdout",
     "output_type": "stream",
     "text": [
      "Index(['Body ID', 'articleBody', 'Headline', 'Stance'], dtype='object')\n",
      "Recently, a second-grader from Kohl Isilkulsky District accidentally discovered his ability superhero. Seven-year student may be attracted to metal objects and even move them from a distance.\n",
      "\n",
      "About supernormal schoolboy entire Omsk region learned from the report \"12 channel\" .\n",
      "\n",
      "Nicholas Kruglyachenko schoolboy from Isilkul:\n",
      "\n",
      " - When I do not even want, everything appears. Once I even pulled glass. He moved on its own. Practically I think to become a superhero.\n",
      "\n",
      " \n",
      "\n",
      "Touching the boy may even affect others and pass them superpowers. Second graders can influence others so that people at the time turned into magnets. \n",
      "\n",
      "---\n",
      "\n",
      "Photo: gtrk-omsk.ruSchoolboy almost killed by electric shock claims he now has superpowers like Magneto\n"
     ]
    }
   ],
   "source": [
    "print(docs.columns) \n",
    "newser = docs['articleBody'] + docs['Headline'] \n",
    "print(newser.values[0])"
   ]
  },
  {
   "cell_type": "code",
   "execution_count": 5,
   "id": "ed790756",
   "metadata": {},
   "outputs": [],
   "source": [
    "def get_word_pos():  \n",
    "    word_to_index = dict() \n",
    "    count0 = 0\n",
    "    with open('glove.6B.100d.txt' , 'r',encoding = 'utf-8') as f1: \n",
    "        for line in f1: \n",
    "            lis = line.split() \n",
    "            word_to_index[lis[0]] = count0 \n",
    "            count0 = count0+1 \n",
    "    return word_to_index"
   ]
  },
  {
   "cell_type": "code",
   "execution_count": 6,
   "id": "2a1c46c7",
   "metadata": {},
   "outputs": [],
   "source": [
    "imp_dict= get_word_pos() \n"
   ]
  },
  {
   "cell_type": "code",
   "execution_count": 7,
   "id": "e5087878",
   "metadata": {},
   "outputs": [
    {
     "name": "stdout",
     "output_type": "stream",
     "text": [
      "<class 'list'>\n",
      "(',', 1)\n",
      "400000\n"
     ]
    }
   ],
   "source": [
    "print(type(list(imp_dict.items()))) \n",
    "i_l = list(imp_dict.items()) \n",
    "print(i_l[1])  \n",
    "print(len(i_l))"
   ]
  },
  {
   "cell_type": "code",
   "execution_count": 8,
   "id": "d3cf2b78",
   "metadata": {},
   "outputs": [],
   "source": [
    "X,Y = generate_matrices(newser.values[:1500],imp_dict,nr_topics_1 = 20) "
   ]
  },
  {
   "cell_type": "code",
   "execution_count": 9,
   "id": "9c24b50a",
   "metadata": {},
   "outputs": [
    {
     "name": "stdout",
     "output_type": "stream",
     "text": [
      "tensor([[ 9.7640e-01,  2.7877e-03,  1.5977e-03,  ...,  5.9954e-04,\n",
      "          6.3115e-04,  4.4876e-04],\n",
      "        [ 0.0000e+00, 1.0430e-307, 6.4458e-308,  ..., 2.2865e-308,\n",
      "         2.1226e-308, 2.1674e-308],\n",
      "        [ 9.8864e-01,  1.3956e-03,  7.8697e-04,  ...,  3.3353e-04,\n",
      "          2.2130e-04,  1.4360e-04],\n",
      "        ...,\n",
      "        [ 9.6454e-01,  4.4991e-03,  2.7423e-03,  ...,  1.1015e-03,\n",
      "          6.2532e-04,  7.5430e-04],\n",
      "        [ 0.0000e+00, 3.0205e-307,  1.0000e+00,  ..., 8.9020e-308,\n",
      "         1.8418e-308, 1.9811e-308],\n",
      "        [ 1.0000e+00, 1.0492e-307, 5.9349e-308,  ..., 2.4882e-308,\n",
      "         1.9333e-308, 1.2767e-308]], dtype=torch.float64)\n"
     ]
    }
   ],
   "source": [
    "print(X)"
   ]
  },
  {
   "cell_type": "code",
   "execution_count": 10,
   "id": "f45ef96f",
   "metadata": {},
   "outputs": [
    {
     "name": "stdout",
     "output_type": "stream",
     "text": [
      "torch.Size([1500, 21])\n",
      "torch.Size([21, 400000])\n"
     ]
    }
   ],
   "source": [
    "print(X.size()) \n",
    "print(Y.size())"
   ]
  },
  {
   "cell_type": "code",
   "execution_count": null,
   "id": "d1bb7b3d",
   "metadata": {},
   "outputs": [],
   "source": []
  }
 ],
 "metadata": {
  "kernelspec": {
   "display_name": "Python 3 (ipykernel)",
   "language": "python",
   "name": "python3"
  },
  "language_info": {
   "codemirror_mode": {
    "name": "ipython",
    "version": 3
   },
   "file_extension": ".py",
   "mimetype": "text/x-python",
   "name": "python",
   "nbconvert_exporter": "python",
   "pygments_lexer": "ipython3",
   "version": "3.9.7"
  }
 },
 "nbformat": 4,
 "nbformat_minor": 5
}

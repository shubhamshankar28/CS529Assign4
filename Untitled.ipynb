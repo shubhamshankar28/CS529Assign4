{
 "cells": [
  {
   "cell_type": "code",
   "execution_count": 1,
   "id": "da0c6d6b",
   "metadata": {},
   "outputs": [],
   "source": [
    "from bertopic import BERTopic\n",
    "from sklearn.datasets import fetch_20newsgroups"
   ]
  },
  {
   "cell_type": "code",
   "execution_count": 4,
   "id": "c72e6b73",
   "metadata": {},
   "outputs": [],
   "source": [
    "def generate_matrices(X,word_to_index, words_per_topic = 10): \n",
    "    model = BERTopic(calculate_probabilities  = True , top_n_words = 10) \n",
    "    topics,probs = model.fit_transform(X) \n",
    "    document_to_topic = probs \n",
    "    print(topics[0] , document_to_topic[0]) \n",
    "    vocab_len = len(word_to_index.items()) \n",
    "    \n",
    "    topic_to_word_dict  = model.get_topics()\n",
    "    topic_len = len(topic_to_word_dict.items()) \n",
    "    \n",
    "    \n",
    "    topic_to_word = [] \n",
    "    for i in range(topic_len):  \n",
    "        temparr = []\n",
    "        for j in range(vocab_len): \n",
    "            temparr.append(0) \n",
    "        topic_to_word.append(temparr) \n",
    "    \n",
    "    for i in topic_to_word_dict: \n",
    "        temparr = topic_to_word_dict[i] \n",
    "        size = len(temparr) \n",
    "        for j in range(size): \n",
    "            if(temparr[j][0] in word_to_index): \n",
    "                topic_to_word[i+1][word_to_index[temparr[j][0]]] = temparr[j][1] \n",
    "    return (document_to_topic,topic_to_word) \n",
    "            \n"
   ]
  },
  {
   "cell_type": "code",
   "execution_count": 5,
   "id": "14309fda",
   "metadata": {},
   "outputs": [],
   "source": [
    "doc_total = fetch_20newsgroups(subset = 'all' , remove = ('headers' , 'footers' , 'quotes')) \n",
    "docs = doc_total['data'] \n",
    "\n"
   ]
  },
  {
   "cell_type": "code",
   "execution_count": 6,
   "id": "e2cb5d2f",
   "metadata": {},
   "outputs": [
    {
     "name": "stdout",
     "output_type": "stream",
     "text": [
      "2 [4.67727411e-309 4.91625395e-309 1.00000000e+000]\n"
     ]
    }
   ],
   "source": [
    "generate_matrices(docs[:100]) "
   ]
  },
  {
   "cell_type": "code",
   "execution_count": null,
   "id": "cda8f420",
   "metadata": {},
   "outputs": [],
   "source": []
  }
 ],
 "metadata": {
  "kernelspec": {
   "display_name": "Python 3 (ipykernel)",
   "language": "python",
   "name": "python3"
  },
  "language_info": {
   "codemirror_mode": {
    "name": "ipython",
    "version": 3
   },
   "file_extension": ".py",
   "mimetype": "text/x-python",
   "name": "python",
   "nbconvert_exporter": "python",
   "pygments_lexer": "ipython3",
   "version": "3.9.7"
  }
 },
 "nbformat": 4,
 "nbformat_minor": 5
}

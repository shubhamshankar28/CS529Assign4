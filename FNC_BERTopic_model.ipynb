{
 "cells": [
  {
   "cell_type": "code",
   "execution_count": 1,
   "id": "63086c78",
   "metadata": {},
   "outputs": [],
   "source": [
    "import torch\n",
    "import torch.nn as nn\n",
    "import torch.nn.functional as F\n",
    "from torch.utils.data import DataLoader, TensorDataset\n",
    "from bertopic import BERTopic\n",
    "import numpy as np\n",
    "import pandas as pd \n",
    "import matplotlib.pyplot as plt \n",
    "from sklearn.model_selection import train_test_split\n",
    "from sklearn.metrics import accuracy_score"
   ]
  },
  {
   "cell_type": "code",
   "execution_count": 2,
   "id": "f8ae10ce",
   "metadata": {},
   "outputs": [],
   "source": [
    "#### Returns a tuple the first element is document_to_topic_tensor\n",
    "#### The second element is topic_to_word_tensor \n",
    "#### Use the nr_topics_1 argument to specify the number of topics that should be present finally. If this parameter is too low\n",
    "#### take a lot of time.\n",
    "#### Use the words_per_topic argument to specify the number of representative words per topic. \n",
    "\n",
    "def generate_matrices(X,word_to_index, words_per_topic = 10,nr_topics_1 = None): \n",
    "    ### get target topics and probabilities of each document topic pair\n",
    "    model = BERTopic(calculate_probabilities  = True , top_n_words = words_per_topic,nr_topics = nr_topics_1) \n",
    "    topics,probs = model.fit_transform(X) \n",
    "    \n",
    "    ### calclate remaining topic probability as 1 - sum of given topic probabilities.\n",
    "    document_to_topic_bas = probs  \n",
    "    document_to_topic = [] \n",
    "    for i in range(len(document_to_topic_bas)): \n",
    "        sum1 = 0.0 \n",
    "        for j in document_to_topic_bas[i]: \n",
    "            sum1 = sum1 + j \n",
    "        templ = [max(1-sum1,0.0)] \n",
    "        for j in document_to_topic_bas[i]: \n",
    "            templ.append(j) \n",
    "        document_to_topic.append(templ) \n",
    "    \n",
    "    \n",
    "    \n",
    "    #print(topics[0] , document_to_topic[0])  \n",
    "    \n",
    "    vocab_len = len(list(word_to_index.items())) \n",
    "    \n",
    "    topic_to_word_dict  = model.get_topics()\n",
    "    topic_len = len(list(topic_to_word_dict.items())) \n",
    "  \n",
    "    ## initialize topic_to_word matrix\n",
    "    topic_to_word = [] \n",
    "    for i in range(topic_len):  \n",
    "        temparr = []\n",
    "        for j in range(vocab_len): \n",
    "            temparr.append(0) \n",
    "        topic_to_word.append(temparr) \n",
    "    \n",
    "    \n",
    "    for i in topic_to_word_dict: \n",
    "        temparr = topic_to_word_dict[i] \n",
    "        size = len(temparr) \n",
    "        for j in range(size): \n",
    "            if(temparr[j][0] in word_to_index): \n",
    "                 ## make sure that -1 corresponds to 0\n",
    "                topic_to_word[i+1][word_to_index[temparr[j][0]]] = temparr[j][1]  \n",
    "    \n",
    "    ## convert to pytorch tensors.\n",
    "    document_to_topic_tens = torch.tensor(document_to_topic) \n",
    "    topic_to_word_tens= torch.tensor(topic_to_word) \n",
    "    \n",
    "    return (document_to_topic_tens,topic_to_word_tens) \n",
    "            \n"
   ]
  },
  {
   "cell_type": "code",
   "execution_count": 3,
   "id": "58049ad6",
   "metadata": {},
   "outputs": [],
   "source": [
    "def get_word_pos():  \n",
    "    word_to_index = dict() \n",
    "    embedding_dictionary = dict()\n",
    "    count0 = 0\n",
    "    with open('glove.6B.100d.txt' , 'r',encoding = 'utf-8') as f1: \n",
    "        for line in f1: \n",
    "            lis = line.split() \n",
    "            word_to_index[lis[0]] = count0  \n",
    "            templist = []\n",
    "            for index in range(1,len(lis)): \n",
    "                templist.append(float(lis[index])) \n",
    "            embedding_dictionary[lis[0]] = templist\n",
    "            count0 = count0+1 \n",
    "    return (word_to_index,embedding_dictionary)"
   ]
  },
  {
   "cell_type": "code",
   "execution_count": 4,
   "id": "bb7a390b",
   "metadata": {},
   "outputs": [],
   "source": [
    "data_set = pd.read_csv('FNC_Bin_Train.csv') \n",
    "full_set= data_set[:1000]  \n",
    "newser = full_set['articleBody'] + full_set['Headline']\n",
    "train_set = full_set[:800] \n",
    "test_set =  full_set[800:]"
   ]
  },
  {
   "cell_type": "code",
   "execution_count": 5,
   "id": "6c5a4baa",
   "metadata": {},
   "outputs": [],
   "source": [
    "train_set,test_set = train_test_split(full_set,test_size = 0.2) \n"
   ]
  },
  {
   "cell_type": "code",
   "execution_count": 6,
   "id": "81048e83",
   "metadata": {},
   "outputs": [
    {
     "name": "stdout",
     "output_type": "stream",
     "text": [
      "(800, 4)\n",
      "Index(['Body ID', 'articleBody', 'Headline', 'Stance'], dtype='object')\n"
     ]
    }
   ],
   "source": [
    "print(train_set.shape) \n",
    "print(train_set.columns)"
   ]
  },
  {
   "cell_type": "code",
   "execution_count": 8,
   "id": "9add26db",
   "metadata": {},
   "outputs": [],
   "source": [
    "imp_dic,ed = get_word_pos() \n",
    "doc2topic,topic2word = generate_matrices(newser.values,imp_dic) \n"
   ]
  },
  {
   "cell_type": "code",
   "execution_count": 9,
   "id": "93279391",
   "metadata": {},
   "outputs": [],
   "source": [
    "\n",
    "\n",
    "def parse_df_method_concat(inp,words_from_head,words_from_body,embedding_dict,topic2word,word2index): \n",
    "    final_feature = [] \n",
    "    topic2wordnum = topic2word.numpy() \n",
    "    el = len(embedding_dict[list(embedding_dict.items())[0][0]]) \n",
    "    tl  = topic2wordnum.shape[0] \n",
    "    \n",
    "    for headlines,body in zip(inp['Headline'].values,inp['articleBody'].values): \n",
    "        record = []\n",
    "        c0 = 0 \n",
    "        for word in headlines: \n",
    "            temp = []\n",
    "            if(word in embedding_dict): \n",
    "                 \n",
    "                for j in embedding_dict[word]: \n",
    "                    temp.append(j) \n",
    "                for k in topic2wordnum[:,word2index[word]]: \n",
    "                    temp.append(k) \n",
    "            else: \n",
    "                for j in range(el+tl): \n",
    "                    temp.append(0.0) \n",
    "            c0 = c0 + 1\n",
    "            record.append(temp) \n",
    "            if(c0 == words_from_head): \n",
    "                break \n",
    "        for i in range(words_from_head-c0): \n",
    "            temp = [] \n",
    "            for j in range(el+tl): \n",
    "                temp.append(0.0) \n",
    "            record.append(temp) \n",
    "\n",
    "### For body\n",
    "        c0 = 0 \n",
    "        for word in body: \n",
    "            temp = []\n",
    "            if(word in embedding_dict): \n",
    "                 \n",
    "                for j in embedding_dict[word]: \n",
    "                    temp.append(j) \n",
    "                for k in topic2wordnum[:,word2index[word]]: \n",
    "                    temp.append(k) \n",
    "            else: \n",
    "                for j in range(el+tl): \n",
    "                    temp.append(0.0) \n",
    "            c0 = c0 + 1\n",
    "            record.append(temp) \n",
    "            if(c0 == words_from_body): \n",
    "                break \n",
    "        for i in range(words_from_body-c0): \n",
    "            temp = [] \n",
    "            for j in range(el+tl): \n",
    "                temp.append(0.0) \n",
    "            record.append(temp) \n",
    "        \n",
    "        final_feature.append(record) \n",
    "    \n",
    "    final_feature_tensor = torch.tensor(np.array(final_feature)) \n",
    "    final_target = torch.tensor(inp['Stance'].values) \n",
    "    return (final_feature_tensor,final_target)\n",
    "            \n",
    "                \n",
    "                \n",
    "                \n",
    "            \n",
    "    \n",
    "    "
   ]
  },
  {
   "cell_type": "code",
   "execution_count": 10,
   "id": "c46ff9b1",
   "metadata": {},
   "outputs": [
    {
     "name": "stdout",
     "output_type": "stream",
     "text": [
      "torch.Size([44, 400000])\n",
      "torch.Size([1000, 44])\n"
     ]
    }
   ],
   "source": [
    "print(topic2word.shape) \n",
    "print(doc2topic.shape)"
   ]
  },
  {
   "cell_type": "code",
   "execution_count": 11,
   "id": "58e533fd",
   "metadata": {},
   "outputs": [],
   "source": [
    "X_train,y_train = parse_df_method_concat(train_set,12,300,ed,topic2word,imp_dic)"
   ]
  },
  {
   "cell_type": "code",
   "execution_count": 12,
   "id": "2b87bf69",
   "metadata": {},
   "outputs": [
    {
     "name": "stdout",
     "output_type": "stream",
     "text": [
      "torch.Size([800, 312, 144])\n",
      "torch.Size([800])\n"
     ]
    }
   ],
   "source": [
    "print(X_train.shape) \n",
    "print(y_train.shape)"
   ]
  },
  {
   "cell_type": "code",
   "execution_count": 13,
   "id": "99639372",
   "metadata": {},
   "outputs": [],
   "source": [
    "X_test,y_test = parse_df_method_concat(test_set,12,300,ed,topic2word,imp_dic)"
   ]
  },
  {
   "cell_type": "code",
   "execution_count": 14,
   "id": "ed4b0104",
   "metadata": {},
   "outputs": [
    {
     "name": "stdout",
     "output_type": "stream",
     "text": [
      "torch.Size([200, 312, 144])\n",
      "torch.Size([200])\n"
     ]
    }
   ],
   "source": [
    "print(X_test.shape) \n",
    "print(y_test.shape)"
   ]
  },
  {
   "cell_type": "code",
   "execution_count": 15,
   "id": "de353c6c",
   "metadata": {},
   "outputs": [
    {
     "data": {
      "text/plain": [
       "device(type='cpu')"
      ]
     },
     "execution_count": 15,
     "metadata": {},
     "output_type": "execute_result"
    }
   ],
   "source": [
    "device = torch.device('cuda' if torch.cuda.is_available() else 'cpu')\n",
    "device"
   ]
  },
  {
   "cell_type": "code",
   "execution_count": 60,
   "id": "9abb6d89",
   "metadata": {},
   "outputs": [],
   "source": [
    "batch_size = 32\n",
    "train_ds = TensorDataset(X_train,y_train) \n",
    "test_ds = TensorDataset(X_test,y_test) \n",
    "train_dl = DataLoader(train_ds, shuffle=True, batch_size=batch_size, drop_last=True)\n",
    "test_dl = DataLoader(test_ds, shuffle=True, batch_size=batch_size, drop_last=True)"
   ]
  },
  {
   "cell_type": "code",
   "execution_count": 66,
   "id": "51a6138e",
   "metadata": {},
   "outputs": [
    {
     "data": {
      "text/plain": [
       "FNC_BERTopicModel_withDot(\n",
       "  (lstm_head): LSTM(144, 70, batch_first=True)\n",
       "  (lstm_body): LSTM(144, 70, batch_first=True)\n",
       "  (fc_init): Linear(in_features=211, out_features=15, bias=True)\n",
       "  (rel): ReLU()\n",
       "  (fc_final): Linear(in_features=15, out_features=2, bias=True)\n",
       ")"
      ]
     },
     "execution_count": 66,
     "metadata": {},
     "output_type": "execute_result"
    }
   ],
   "source": [
    "model = FNC_BERTopicModel_withDot(144,12,300,70,15) \n",
    "model.to(device) \n",
    "\n"
   ]
  },
  {
   "cell_type": "code",
   "execution_count": 67,
   "id": "7507deed",
   "metadata": {},
   "outputs": [],
   "source": [
    "criterion = nn.CrossEntropyLoss()\n",
    "optimizer = torch.optim.Adam(model.parameters(), lr = 3e-4) "
   ]
  },
  {
   "cell_type": "code",
   "execution_count": 55,
   "id": "e2ab9bbd",
   "metadata": {},
   "outputs": [],
   "source": [
    "class FNC_BERTopicModel(torch.nn.Module) :\n",
    "    def __init__(self,  embedding_dim,words_in_head,words_in_body, hidden_dim=100, mlp_layers=100) :\n",
    "        super().__init__()\n",
    "\n",
    "        self.wh = words_in_head \n",
    "        self.wb = words_in_body\n",
    "\n",
    "        # The LSTM layer takes in the the embedding size and the hidden vector size.\n",
    "        # The hidden dimension is up to you to decide, but common values are 32, 64, 128\n",
    "        self.lstm_head = nn.LSTM(embedding_dim, hidden_dim,batch_first= True)\n",
    "        self.lstm_body = nn.LSTM(embedding_dim,hidden_dim,batch_first = True)\n",
    "        # We use dropout before the final layer to improve with regularization\n",
    "        \n",
    "\n",
    "        # The fully-connected layer takes in the hidden dim of the LSTM and\n",
    "        #  outputs a a 3x1 vector of the class scores.\n",
    "        self.fc_init = nn.Linear(3*hidden_dim, mlp_layers) \n",
    "        self.rel = nn.ReLU()  \n",
    "        self.fc_final = nn.Linear(mlp_layers,2)\n",
    "        \n",
    "\n",
    "    def forward(self, x, hidden):\n",
    "        \"\"\"\n",
    "        The forward method takes in the input and the previous hidden state \n",
    "        \"\"\"\n",
    "\n",
    "        # The input is transformed to embeddings by passing it to the embedding layer\n",
    "        outA,hiddenA = self.lstm_head(x[:,:self.wh,:]) \n",
    "        outB,hiddenB  = self.lstm_body(x[:,self.wh:,:])\n",
    "\n",
    "        # The embedded inputs are fed to the LSTM alongside the previous hidden state\n",
    "        hA = outA.sum(1) \n",
    "        hB = outB.sum(1)\n",
    "        ### calculate_comps \n",
    "        compA = hA - hB \n",
    "        compB = torch.cat((hA,hB) , 1) \n",
    "        ##compC = torch.from_numpy(np.array([torch.dot(hA,hB)]))   \n",
    "        \n",
    "            \n",
    "      \n",
    "        fincomp = torch.cat((compB,compA) , 1) \n",
    "        \n",
    "        ### feeding it to first_mlp \n",
    "        out_ua = self.fc_init(fincomp) \n",
    "        out_a = self.rel(out_ua)\n",
    "        out_fin = self.fc_final(out_a)\n",
    "\n",
    "        return out_fin, hidden\n",
    "    \n",
    "    def init_hidden(self):\n",
    "        return (torch.zeros(1,batch_size,32), torch.zeros(1,batch_size,32))"
   ]
  },
  {
   "cell_type": "code",
   "execution_count": 56,
   "id": "c8a13b6a",
   "metadata": {},
   "outputs": [],
   "source": [
    "class FNC_BERTopicModel_withDot(torch.nn.Module) :\n",
    "    def __init__(self,  embedding_dim,words_in_head,words_in_body, hidden_dim=100, mlp_layers=100) :\n",
    "        super().__init__()\n",
    "\n",
    "        self.wh = words_in_head \n",
    "        self.wb = words_in_body\n",
    "\n",
    "        # The LSTM layer takes in the the embedding size and the hidden vector size.\n",
    "        # The hidden dimension is up to you to decide, but common values are 32, 64, 128\n",
    "        self.lstm_head = nn.LSTM(embedding_dim, hidden_dim,batch_first= True)\n",
    "        self.lstm_body = nn.LSTM(embedding_dim,hidden_dim,batch_first = True)\n",
    "        # We use dropout before the final layer to improve with regularization\n",
    "        \n",
    "\n",
    "        # The fully-connected layer takes in the hidden dim of the LSTM and\n",
    "        #  outputs a a 3x1 vector of the class scores.\n",
    "        self.fc_init = nn.Linear(3*hidden_dim+1, mlp_layers) \n",
    "        self.rel = nn.ReLU()  \n",
    "        self.fc_final = nn.Linear(mlp_layers,2)\n",
    "        \n",
    "\n",
    "    def forward(self, x, hidden):\n",
    "        \"\"\"\n",
    "        The forward method takes in the input and the previous hidden state \n",
    "        \"\"\"\n",
    "\n",
    "        # The input is transformed to embeddings by passing it to the embedding layer\n",
    "        outA,hiddenA = self.lstm_head(x[:,:self.wh,:]) \n",
    "        outB,hiddenB  = self.lstm_body(x[:,self.wh:,:])\n",
    "\n",
    "        # The embedded inputs are fed to the LSTM alongside the previous hidden state\n",
    "        hA = outA.sum(1) \n",
    "        hB = outB.sum(1)\n",
    "        ### calculate_comps \n",
    "        compA = hA - hB \n",
    "        compB = torch.cat((hA,hB) , 1) \n",
    "        ##compC = torch.from_numpy(np.array([torch.dot(hA,hB)]))   \n",
    "        dot_products = [] \n",
    "        for i in range(hA.shape[0]): \n",
    "            dot_products.append([torch.dot(hA[i,:],hB[i,:])]) \n",
    "        compC = torch.tensor(dot_products,dtype = torch.float32) \n",
    "        \n",
    "            \n",
    "      \n",
    "        fincomp = torch.cat((compB,compA,compC) , 1) \n",
    "        \n",
    "        ### feeding it to first_mlp \n",
    "        out_ua = self.fc_init(fincomp) \n",
    "        out_a = self.rel(out_ua)\n",
    "        out_fin = self.fc_final(out_a)\n",
    "\n",
    "        return out_fin, hidden\n",
    "    \n",
    "    def init_hidden(self):\n",
    "        return (torch.zeros(1,batch_size,32), torch.zeros(1,batch_size,32))"
   ]
  },
  {
   "cell_type": "code",
   "execution_count": 68,
   "id": "3b972f44",
   "metadata": {},
   "outputs": [],
   "source": [
    "epochs = 50\n",
    "losses = []\n",
    "for e in range(epochs):\n",
    "\n",
    "    h0, c0 =  model.init_hidden()\n",
    "\n",
    "    h0 = h0.to(device)\n",
    "    c0 = c0.to(device)\n",
    "\n",
    "#     for i in range(800):\n",
    "\n",
    "#         input = X_train[i,:,:] \n",
    "#         input = input.to(torch.float32)\n",
    "#         target = y_train[i]\n",
    "\n",
    "#         optimizer.zero_grad()\n",
    "#         with torch.set_grad_enabled(True):\n",
    "#             out, hidden = model(input, (h0, c0))\n",
    "#             loss = criterion(out, target)\n",
    "#             loss.backward()\n",
    "#             optimizer.step() \n",
    "    for batch_idx, batch in enumerate(train_dl):\n",
    "\n",
    "        input = batch[0].to(device)\n",
    "        target = batch[1].to(device) \n",
    "        input = input.to(torch.float32)\n",
    "\n",
    "        optimizer.zero_grad()\n",
    "        with torch.set_grad_enabled(True):\n",
    "            out, hidden = model(input, (h0, c0))\n",
    "            loss = criterion(out, target)\n",
    "            loss.backward()\n",
    "            optimizer.step()\n",
    "    losses.append(loss.item())"
   ]
  },
  {
   "cell_type": "code",
   "execution_count": 69,
   "id": "5ec7fc7b",
   "metadata": {},
   "outputs": [
    {
     "data": {
      "text/plain": [
       "0.6614583333333334"
      ]
     },
     "execution_count": 69,
     "metadata": {},
     "output_type": "execute_result"
    }
   ],
   "source": [
    "batch_acc = []\n",
    "for batch_idx, batch in enumerate(test_dl):\n",
    "\n",
    "    input = batch[0].to(device)\n",
    "    target = batch[1].to(device)\n",
    "    input = input.to(torch.float32)\n",
    "    optimizer.zero_grad()\n",
    "    with torch.set_grad_enabled(False):\n",
    "        out, hidden = model(input, (h0, c0))\n",
    "        _, preds = torch.max(out, 1)\n",
    "        preds = preds.to(\"cpu\").tolist()\n",
    "        batch_acc.append(accuracy_score(preds, target.tolist()))\n",
    "\n",
    "sum(batch_acc)/len(batch_acc)"
   ]
  },
  {
   "cell_type": "code",
   "execution_count": 70,
   "id": "24a72a80",
   "metadata": {},
   "outputs": [
    {
     "data": {
      "text/plain": [
       "[<matplotlib.lines.Line2D at 0x1cd92d73940>]"
      ]
     },
     "execution_count": 70,
     "metadata": {},
     "output_type": "execute_result"
    },
    {
     "data": {
      "image/png": "[encoded data removed]",
      "text/plain": [
       "<Figure size 432x288 with 1 Axes>"
      ]
     },
     "metadata": {
      "needs_background": "light"
     },
     "output_type": "display_data"
    }
   ],
   "source": [
    "\n",
    "plt.plot(losses)"
   ]
  },
  {
   "cell_type": "code",
   "execution_count": 49,
   "id": "afe804c7",
   "metadata": {},
   "outputs": [
    {
     "data": {
      "text/plain": [
       "0.21875"
      ]
     },
     "execution_count": 49,
     "metadata": {},
     "output_type": "execute_result"
    }
   ],
   "source": [
    "test_model(model,criterion_1,optimizer_1)"
   ]
  },
  {
   "cell_type": "code",
   "execution_count": null,
   "id": "7ba26523",
   "metadata": {},
   "outputs": [],
   "source": [
    "model_alt = FNC_BERTopicModel_withDot(144,12,300,70,15) \n",
    "model_alt.to(device) \n",
    "criterion_2 = nn.CrossEntropyLoss()\n",
    "optimizer_2 = torch.optim.Adam(model.parameters(), lr = 3e-4)  \n",
    "losses = train_model(model_alt,criterion_2,optimizer_2)\n",
    "plt.plot(losses) "
   ]
  }
 ],
 "metadata": {
  "kernelspec": {
   "display_name": "Python 3 (ipykernel)",
   "language": "python",
   "name": "python3"
  },
  "language_info": {
   "codemirror_mode": {
    "name": "ipython",
    "version": 3
   },
   "file_extension": ".py",
   "mimetype": "text/x-python",
   "name": "python",
   "nbconvert_exporter": "python",
   "pygments_lexer": "ipython3",
   "version": "3.9.7"
  }
 },
 "nbformat": 4,
 "nbformat_minor": 5
}

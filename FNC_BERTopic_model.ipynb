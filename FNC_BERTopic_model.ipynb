{
 "cells": [
  {
   "cell_type": "code",
   "execution_count": 1,
   "id": "74d39e5b",
   "metadata": {},
   "outputs": [],
   "source": [
    "import torch\n",
    "import torch.nn as nn\n",
    "import torch.nn.functional as F\n",
    "from torch.utils.data import DataLoader, TensorDataset\n",
    "from bertopic import BERTopic\n",
    "import numpy as np\n",
    "import pandas as pd \n",
    "import matplotlib.pyplot as plt \n",
    "from sklearn.model_selection import train_test_split\n",
    "from sklearn.metrics import accuracy_score"
   ]
  },
  {
   "cell_type": "code",
   "execution_count": 2,
   "id": "b661fc2b",
   "metadata": {},
   "outputs": [],
   "source": [
    "#### Returns a tuple the first element is document_to_topic_tensor\n",
    "#### The second element is topic_to_word_tensor \n",
    "#### Use the nr_topics_1 argument to specify the number of topics that should be present finally. If this parameter is too low\n",
    "#### take a lot of time.\n",
    "#### Use the words_per_topic argument to specify the number of representative words per topic. \n",
    "\n",
    "def generate_matrices(X,word_to_index, words_per_topic = 10,nr_topics_1 = None): \n",
    "    ### get target topics and probabilities of each document topic pair\n",
    "    model = BERTopic(calculate_probabilities  = True , top_n_words = words_per_topic,nr_topics = nr_topics_1) \n",
    "    topics,probs = model.fit_transform(X) \n",
    "    \n",
    "    ### calclate remaining topic probability as 1 - sum of given topic probabilities.\n",
    "    document_to_topic_bas = probs  \n",
    "    document_to_topic = [] \n",
    "    for i in range(len(document_to_topic_bas)): \n",
    "        sum1 = 0.0 \n",
    "        for j in document_to_topic_bas[i]: \n",
    "            sum1 = sum1 + j \n",
    "        templ = [max(1-sum1,0.0)] \n",
    "        for j in document_to_topic_bas[i]: \n",
    "            templ.append(j) \n",
    "        document_to_topic.append(templ) \n",
    "    \n",
    "    \n",
    "    \n",
    "    #print(topics[0] , document_to_topic[0])  \n",
    "    \n",
    "    vocab_len = len(list(word_to_index.items())) \n",
    "    \n",
    "    topic_to_word_dict  = model.get_topics()\n",
    "    topic_len = len(list(topic_to_word_dict.items())) \n",
    "  \n",
    "    ## initialize topic_to_word matrix\n",
    "    topic_to_word = [] \n",
    "    for i in range(topic_len):  \n",
    "        temparr = []\n",
    "        for j in range(vocab_len): \n",
    "            temparr.append(0) \n",
    "        topic_to_word.append(temparr) \n",
    "    \n",
    "    \n",
    "    for i in topic_to_word_dict: \n",
    "        temparr = topic_to_word_dict[i] \n",
    "        size = len(temparr) \n",
    "        for j in range(size): \n",
    "            if(temparr[j][0] in word_to_index): \n",
    "                 ## make sure that -1 corresponds to 0\n",
    "                topic_to_word[i+1][word_to_index[temparr[j][0]]] = temparr[j][1]  \n",
    "    \n",
    "    ## convert to pytorch tensors.\n",
    "    document_to_topic_tens = torch.tensor(document_to_topic) \n",
    "    topic_to_word_tens= torch.tensor(topic_to_word) \n",
    "    \n",
    "    return (document_to_topic_tens,topic_to_word_tens) \n",
    "            \n"
   ]
  },
  {
   "cell_type": "code",
   "execution_count": 3,
   "id": "154d4b44",
   "metadata": {},
   "outputs": [],
   "source": [
    "def get_word_pos():  \n",
    "    word_to_index = dict() \n",
    "    embedding_dictionary = dict()\n",
    "    count0 = 0\n",
    "    with open('glove.6B.100d.txt' , 'r',encoding = 'utf-8') as f1: \n",
    "        for line in f1: \n",
    "            lis = line.split() \n",
    "            word_to_index[lis[0]] = count0  \n",
    "            templist = []\n",
    "            for index in range(1,len(lis)): \n",
    "                templist.append(float(lis[index])) \n",
    "            embedding_dictionary[lis[0]] = templist\n",
    "            count0 = count0+1 \n",
    "    return (word_to_index,embedding_dictionary)"
   ]
  },
  {
   "cell_type": "code",
   "execution_count": 4,
   "id": "6a3d4062",
   "metadata": {},
   "outputs": [],
   "source": [
    "data_set = pd.read_csv('FNC_Bin_Train.csv') \n",
    "full_set= data_set[:1000]  \n",
    "newser = full_set['articleBody'] + full_set['Headline']\n",
    "train_set = full_set[:800] \n",
    "test_set =  full_set[800:]"
   ]
  },
  {
   "cell_type": "code",
   "execution_count": 5,
   "id": "e221b70d",
   "metadata": {},
   "outputs": [],
   "source": [
    "train_set,test_set = train_test_split(full_set,test_size = 0.2) \n"
   ]
  },
  {
   "cell_type": "code",
   "execution_count": 6,
   "id": "b83e4cc3",
   "metadata": {},
   "outputs": [
    {
     "name": "stdout",
     "output_type": "stream",
     "text": [
      "(800, 4)\n",
      "Index(['Body ID', 'articleBody', 'Headline', 'Stance'], dtype='object')\n"
     ]
    }
   ],
   "source": [
    "print(train_set.shape) \n",
    "print(train_set.columns)"
   ]
  },
  {
   "cell_type": "code",
   "execution_count": 7,
   "id": "d05b6c33",
   "metadata": {},
   "outputs": [],
   "source": [
    "imp_dic,ed = get_word_pos() \n",
    "doc2topic,topic2word = generate_matrices(newser.values,imp_dic) \n"
   ]
  },
  {
   "cell_type": "code",
   "execution_count": 8,
   "id": "d601cc78",
   "metadata": {},
   "outputs": [],
   "source": [
    "\n",
    "\n",
    "def parse_df_method_concat(inp,words_from_head,words_from_body,embedding_dict,topic2word,word2index): \n",
    "    final_feature = [] \n",
    "    topic2wordnum = topic2word.numpy() \n",
    "    el = len(embedding_dict[list(embedding_dict.items())[0][0]]) \n",
    "    tl  = topic2wordnum.shape[0] \n",
    "    \n",
    "    for headlines,body in zip(inp['Headline'].values,inp['articleBody'].values): \n",
    "        record = []\n",
    "        c0 = 0 \n",
    "        for word in headlines: \n",
    "            temp = []\n",
    "            if(word in embedding_dict): \n",
    "                 \n",
    "                for j in embedding_dict[word]: \n",
    "                    temp.append(j) \n",
    "                for k in topic2wordnum[:,word2index[word]]: \n",
    "                    temp.append(k) \n",
    "            else: \n",
    "                for j in range(el+tl): \n",
    "                    temp.append(0.0) \n",
    "            c0 = c0 + 1\n",
    "            record.append(temp) \n",
    "            if(c0 == words_from_head): \n",
    "                break \n",
    "        for i in range(words_from_head-c0): \n",
    "            temp = [] \n",
    "            for j in range(el+tl): \n",
    "                temp.append(0.0) \n",
    "            record.append(temp) \n",
    "\n",
    "### For body\n",
    "        c0 = 0 \n",
    "        for word in body: \n",
    "            temp = []\n",
    "            if(word in embedding_dict): \n",
    "                 \n",
    "                for j in embedding_dict[word]: \n",
    "                    temp.append(j) \n",
    "                for k in topic2wordnum[:,word2index[word]]: \n",
    "                    temp.append(k) \n",
    "            else: \n",
    "                for j in range(el+tl): \n",
    "                    temp.append(0.0) \n",
    "            c0 = c0 + 1\n",
    "            record.append(temp) \n",
    "            if(c0 == words_from_body): \n",
    "                break \n",
    "        for i in range(words_from_body-c0): \n",
    "            temp = [] \n",
    "            for j in range(el+tl): \n",
    "                temp.append(0.0) \n",
    "            record.append(temp) \n",
    "        \n",
    "        final_feature.append(record) \n",
    "    \n",
    "    final_feature_tensor = torch.tensor(np.array(final_feature)) \n",
    "    final_target = torch.tensor(inp['Stance'].values) \n",
    "    return (final_feature_tensor,final_target)\n",
    "            \n",
    "                \n",
    "                \n",
    "                \n",
    "            \n",
    "    \n",
    "    "
   ]
  },
  {
   "cell_type": "code",
   "execution_count": 9,
   "id": "e67ba5d8",
   "metadata": {},
   "outputs": [
    {
     "name": "stdout",
     "output_type": "stream",
     "text": [
      "torch.Size([43, 400000])\n",
      "torch.Size([1000, 43])\n"
     ]
    }
   ],
   "source": [
    "print(topic2word.shape) \n",
    "print(doc2topic.shape)"
   ]
  },
  {
   "cell_type": "code",
   "execution_count": 10,
   "id": "af62f3db",
   "metadata": {},
   "outputs": [],
   "source": [
    "X_train,y_train = parse_df_method_concat(train_set,12,300,ed,topic2word,imp_dic)"
   ]
  },
  {
   "cell_type": "code",
   "execution_count": 11,
   "id": "34bcb47a",
   "metadata": {},
   "outputs": [
    {
     "name": "stdout",
     "output_type": "stream",
     "text": [
      "torch.Size([800, 312, 143])\n",
      "torch.Size([800])\n"
     ]
    }
   ],
   "source": [
    "print(X_train.shape) \n",
    "print(y_train.shape)"
   ]
  },
  {
   "cell_type": "code",
   "execution_count": 12,
   "id": "6a4e2edb",
   "metadata": {},
   "outputs": [],
   "source": [
    "X_test,y_test = parse_df_method_concat(test_set,12,300,ed,topic2word,imp_dic)"
   ]
  },
  {
   "cell_type": "code",
   "execution_count": 13,
   "id": "a163dd28",
   "metadata": {},
   "outputs": [
    {
     "name": "stdout",
     "output_type": "stream",
     "text": [
      "torch.Size([200, 312, 143])\n",
      "torch.Size([200])\n"
     ]
    }
   ],
   "source": [
    "print(X_test.shape) \n",
    "print(y_test.shape)"
   ]
  },
  {
   "cell_type": "code",
   "execution_count": 13,
   "id": "40116580",
   "metadata": {},
   "outputs": [
    {
     "data": {
      "text/plain": [
       "device(type='cpu')"
      ]
     },
     "execution_count": 13,
     "metadata": {},
     "output_type": "execute_result"
    }
   ],
   "source": [
    "device = torch.device('cuda' if torch.cuda.is_available() else 'cpu')\n",
    "device"
   ]
  },
  {
   "cell_type": "code",
   "execution_count": 14,
   "id": "d0e4cfb6",
   "metadata": {},
   "outputs": [],
   "source": [
    "batch_size = 32\n",
    "train_ds = TensorDataset(X_train,y_train) \n",
    "test_ds = TensorDataset(X_test,y_test) \n",
    "train_dl = DataLoader(train_ds, shuffle=True, batch_size=batch_size, drop_last=True)\n",
    "test_dl = DataLoader(test_ds, shuffle=True, batch_size=batch_size, drop_last=True)"
   ]
  },
  {
   "cell_type": "code",
   "execution_count": 32,
   "id": "ef67dfb0",
   "metadata": {},
   "outputs": [
    {
     "name": "stdout",
     "output_type": "stream",
     "text": [
      "FNC_BERTopicModel(\n",
      "  (lstm_head): LSTM(143, 70, batch_first=True)\n",
      "  (lstm_body): LSTM(143, 70, batch_first=True)\n",
      "  (fc_init): Linear(in_features=210, out_features=15, bias=True)\n",
      "  (rel): ReLU()\n",
      "  (fc_final): Linear(in_features=15, out_features=2, bias=True)\n",
      ")\n"
     ]
    }
   ],
   "source": [
    "model = FNC_BERTopicModel(X_test.shape[2],12,300,70,15) \n",
    "model.to(device)  \n",
    "print(model)\n",
    "criterion = nn.CrossEntropyLoss()\n",
    "optimizer = torch.optim.Adam(model.parameters(), lr = 3e-4) \n"
   ]
  },
  {
   "cell_type": "code",
   "execution_count": 33,
   "id": "746998d5",
   "metadata": {},
   "outputs": [
    {
     "ename": "KeyboardInterrupt",
     "evalue": "",
     "output_type": "error",
     "traceback": [
      "\u001b[1;31m---------------------------------------------------------------------------\u001b[0m",
      "\u001b[1;31mKeyboardInterrupt\u001b[0m                         Traceback (most recent call last)",
      "Input \u001b[1;32mIn [33]\u001b[0m, in \u001b[0;36m<module>\u001b[1;34m\u001b[0m\n\u001b[1;32m----> 1\u001b[0m losses \u001b[38;5;241m=\u001b[39m \u001b[43mtrainer\u001b[49m\u001b[43m(\u001b[49m\u001b[43mmodel\u001b[49m\u001b[43m,\u001b[49m\u001b[43moptimizer\u001b[49m\u001b[43m,\u001b[49m\u001b[43mcriterion\u001b[49m\u001b[43m,\u001b[49m\u001b[43mdevice\u001b[49m\u001b[43m)\u001b[49m \n\u001b[0;32m      2\u001b[0m plt\u001b[38;5;241m.\u001b[39mplot(losses)\n",
      "Input \u001b[1;32mIn [21]\u001b[0m, in \u001b[0;36mtrainer\u001b[1;34m(train_model, train_optimizer, train_criterion, train_device)\u001b[0m\n\u001b[0;32m     31\u001b[0m         out, hidden \u001b[38;5;241m=\u001b[39m train_model(\u001b[38;5;28minput\u001b[39m, (h0, c0))\n\u001b[0;32m     32\u001b[0m         loss \u001b[38;5;241m=\u001b[39m train_criterion(out, target)\n\u001b[1;32m---> 33\u001b[0m         \u001b[43mloss\u001b[49m\u001b[38;5;241;43m.\u001b[39;49m\u001b[43mbackward\u001b[49m\u001b[43m(\u001b[49m\u001b[43m)\u001b[49m\n\u001b[0;32m     34\u001b[0m         optimizer\u001b[38;5;241m.\u001b[39mstep()\n\u001b[0;32m     35\u001b[0m losses\u001b[38;5;241m.\u001b[39mappend(loss\u001b[38;5;241m.\u001b[39mitem()) \n",
      "File \u001b[1;32m~\\anaconda3\\envs\\cs529\\lib\\site-packages\\torch\\_tensor.py:363\u001b[0m, in \u001b[0;36mTensor.backward\u001b[1;34m(self, gradient, retain_graph, create_graph, inputs)\u001b[0m\n\u001b[0;32m    354\u001b[0m \u001b[38;5;28;01mif\u001b[39;00m has_torch_function_unary(\u001b[38;5;28mself\u001b[39m):\n\u001b[0;32m    355\u001b[0m     \u001b[38;5;28;01mreturn\u001b[39;00m handle_torch_function(\n\u001b[0;32m    356\u001b[0m         Tensor\u001b[38;5;241m.\u001b[39mbackward,\n\u001b[0;32m    357\u001b[0m         (\u001b[38;5;28mself\u001b[39m,),\n\u001b[1;32m   (...)\u001b[0m\n\u001b[0;32m    361\u001b[0m         create_graph\u001b[38;5;241m=\u001b[39mcreate_graph,\n\u001b[0;32m    362\u001b[0m         inputs\u001b[38;5;241m=\u001b[39minputs)\n\u001b[1;32m--> 363\u001b[0m \u001b[43mtorch\u001b[49m\u001b[38;5;241;43m.\u001b[39;49m\u001b[43mautograd\u001b[49m\u001b[38;5;241;43m.\u001b[39;49m\u001b[43mbackward\u001b[49m\u001b[43m(\u001b[49m\u001b[38;5;28;43mself\u001b[39;49m\u001b[43m,\u001b[49m\u001b[43m \u001b[49m\u001b[43mgradient\u001b[49m\u001b[43m,\u001b[49m\u001b[43m \u001b[49m\u001b[43mretain_graph\u001b[49m\u001b[43m,\u001b[49m\u001b[43m \u001b[49m\u001b[43mcreate_graph\u001b[49m\u001b[43m,\u001b[49m\u001b[43m \u001b[49m\u001b[43minputs\u001b[49m\u001b[38;5;241;43m=\u001b[39;49m\u001b[43minputs\u001b[49m\u001b[43m)\u001b[49m\n",
      "File \u001b[1;32m~\\anaconda3\\envs\\cs529\\lib\\site-packages\\torch\\autograd\\__init__.py:173\u001b[0m, in \u001b[0;36mbackward\u001b[1;34m(tensors, grad_tensors, retain_graph, create_graph, grad_variables, inputs)\u001b[0m\n\u001b[0;32m    168\u001b[0m     retain_graph \u001b[38;5;241m=\u001b[39m create_graph\n\u001b[0;32m    170\u001b[0m \u001b[38;5;66;03m# The reason we repeat same the comment below is that\u001b[39;00m\n\u001b[0;32m    171\u001b[0m \u001b[38;5;66;03m# some Python versions print out the first line of a multi-line function\u001b[39;00m\n\u001b[0;32m    172\u001b[0m \u001b[38;5;66;03m# calls in the traceback and some print out the last line\u001b[39;00m\n\u001b[1;32m--> 173\u001b[0m \u001b[43mVariable\u001b[49m\u001b[38;5;241;43m.\u001b[39;49m\u001b[43m_execution_engine\u001b[49m\u001b[38;5;241;43m.\u001b[39;49m\u001b[43mrun_backward\u001b[49m\u001b[43m(\u001b[49m\u001b[43m  \u001b[49m\u001b[38;5;66;43;03m# Calls into the C++ engine to run the backward pass\u001b[39;49;00m\n\u001b[0;32m    174\u001b[0m \u001b[43m    \u001b[49m\u001b[43mtensors\u001b[49m\u001b[43m,\u001b[49m\u001b[43m \u001b[49m\u001b[43mgrad_tensors_\u001b[49m\u001b[43m,\u001b[49m\u001b[43m \u001b[49m\u001b[43mretain_graph\u001b[49m\u001b[43m,\u001b[49m\u001b[43m \u001b[49m\u001b[43mcreate_graph\u001b[49m\u001b[43m,\u001b[49m\u001b[43m \u001b[49m\u001b[43minputs\u001b[49m\u001b[43m,\u001b[49m\n\u001b[0;32m    175\u001b[0m \u001b[43m    \u001b[49m\u001b[43mallow_unreachable\u001b[49m\u001b[38;5;241;43m=\u001b[39;49m\u001b[38;5;28;43;01mTrue\u001b[39;49;00m\u001b[43m,\u001b[49m\u001b[43m \u001b[49m\u001b[43maccumulate_grad\u001b[49m\u001b[38;5;241;43m=\u001b[39;49m\u001b[38;5;28;43;01mTrue\u001b[39;49;00m\u001b[43m)\u001b[49m\n",
      "\u001b[1;31mKeyboardInterrupt\u001b[0m: "
     ]
    }
   ],
   "source": [
    "losses = trainer(model,optimizer,criterion,device) \n",
    "plt.plot(losses)"
   ]
  },
  {
   "cell_type": "code",
   "execution_count": 26,
   "id": "1709330a",
   "metadata": {},
   "outputs": [
    {
     "name": "stdout",
     "output_type": "stream",
     "text": [
      "0.765625\n"
     ]
    }
   ],
   "source": [
    "finacc = tester(model,optimizer,device) \n",
    "print(finacc)"
   ]
  },
  {
   "cell_type": "code",
   "execution_count": 36,
   "id": "5c5379d0",
   "metadata": {},
   "outputs": [
    {
     "name": "stdout",
     "output_type": "stream",
     "text": [
      "FNC_BERTopicModel_withDot(\n",
      "  (lstm_head): LSTM(143, 70, batch_first=True)\n",
      "  (lstm_body): LSTM(143, 70, batch_first=True)\n",
      "  (fc_init): Linear(in_features=211, out_features=15, bias=True)\n",
      "  (rel): ReLU()\n",
      "  (fc_final): Linear(in_features=15, out_features=2, bias=True)\n",
      ")\n"
     ]
    }
   ],
   "source": [
    "model_dot = FNC_BERTopicModel_withDot(X_test.shape[2],12,300,70,15) \n",
    "model_dot.to(device)  \n",
    "print(model_dot)\n",
    "criterion_dot = nn.CrossEntropyLoss()\n",
    "optimizer_dot = torch.optim.Adam(model_dot.parameters(), lr = 3e-4) "
   ]
  },
  {
   "cell_type": "code",
   "execution_count": 37,
   "id": "f27b9f95",
   "metadata": {},
   "outputs": [
    {
     "data": {
      "text/plain": [
       "[<matplotlib.lines.Line2D at 0x146230f65e0>]"
      ]
     },
     "execution_count": 37,
     "metadata": {},
     "output_type": "execute_result"
    },
    {
     "data": {
      "image/png": "[encoded data removed]",
      "text/plain": [
       "<Figure size 432x288 with 1 Axes>"
      ]
     },
     "metadata": {
      "needs_background": "light"
     },
     "output_type": "display_data"
    }
   ],
   "source": [
    "losses = trainer(model_dot,optimizer_dot,criterion_dot,device) \n",
    "plt.plot(losses)"
   ]
  },
  {
   "cell_type": "code",
   "execution_count": 38,
   "id": "1478fd03",
   "metadata": {},
   "outputs": [
    {
     "name": "stdout",
     "output_type": "stream",
     "text": [
      "0.78125\n"
     ]
    }
   ],
   "source": [
    "finacc = tester(model_dot,optimizer_dot,device) \n",
    "print(finacc)"
   ]
  },
  {
   "cell_type": "code",
   "execution_count": 17,
   "id": "550cf4e8",
   "metadata": {},
   "outputs": [],
   "source": [
    "class FNC_BERTopicModel(torch.nn.Module) :\n",
    "    def __init__(self,  embedding_dim,words_in_head,words_in_body, hidden_dim=100, mlp_layers=100) :\n",
    "        super().__init__()\n",
    "\n",
    "        self.wh = words_in_head \n",
    "        self.wb = words_in_body\n",
    "\n",
    "        # The LSTM layer takes in the the embedding size and the hidden vector size.\n",
    "        # The hidden dimension is up to you to decide, but common values are 32, 64, 128\n",
    "        self.lstm_head = nn.LSTM(embedding_dim, hidden_dim,batch_first= True)\n",
    "        self.lstm_body = nn.LSTM(embedding_dim,hidden_dim,batch_first = True)\n",
    "        # We use dropout before the final layer to improve with regularization\n",
    "        \n",
    "\n",
    "        # The fully-connected layer takes in the hidden dim of the LSTM and\n",
    "        #  outputs a a 3x1 vector of the class scores.\n",
    "        self.fc_init = nn.Linear(3*hidden_dim, mlp_layers) \n",
    "        self.rel = nn.ReLU()  \n",
    "        self.fc_final = nn.Linear(mlp_layers,2)\n",
    "        \n",
    "\n",
    "    def forward(self, x, hidden):\n",
    "        \"\"\"\n",
    "        The forward method takes in the input and the previous hidden state \n",
    "        \"\"\"\n",
    "\n",
    "        # The input is transformed to embeddings by passing it to the embedding layer\n",
    "        outA,hiddenA = self.lstm_head(x[:,:self.wh,:]) \n",
    "        outB,hiddenB  = self.lstm_body(x[:,self.wh:,:])\n",
    "\n",
    "        # The embedded inputs are fed to the LSTM alongside the previous hidden state\n",
    "        hA = outA.sum(1) \n",
    "        hB = outB.sum(1)\n",
    "        ### calculate_comps \n",
    "        compA = hA - hB \n",
    "        compB = torch.cat((hA,hB) , 1) \n",
    "        ##compC = torch.from_numpy(np.array([torch.dot(hA,hB)]))   \n",
    "        \n",
    "            \n",
    "      \n",
    "        fincomp = torch.cat((compB,compA) , 1) \n",
    "        \n",
    "        ### feeding it to first_mlp \n",
    "        out_ua = self.fc_init(fincomp) \n",
    "        out_a = self.rel(out_ua)\n",
    "        out_fin = self.fc_final(out_a)\n",
    "\n",
    "        return out_fin, hidden\n",
    "    \n",
    "    def init_hidden(self):\n",
    "        return (torch.zeros(1,batch_size,32), torch.zeros(1,batch_size,32))"
   ]
  },
  {
   "cell_type": "code",
   "execution_count": 28,
   "id": "6c1b7039",
   "metadata": {},
   "outputs": [],
   "source": [
    "class FNC_BERTopicModel_withDot(torch.nn.Module) :\n",
    "    def __init__(self,  embedding_dim,words_in_head,words_in_body, hidden_dim=100, mlp_layers=100) :\n",
    "        super().__init__()\n",
    "\n",
    "        self.wh = words_in_head \n",
    "        self.wb = words_in_body\n",
    "\n",
    "        # The LSTM layer takes in the the embedding size and the hidden vector size.\n",
    "        # The hidden dimension is up to you to decide, but common values are 32, 64, 128\n",
    "        self.lstm_head = nn.LSTM(embedding_dim, hidden_dim,batch_first= True)\n",
    "        self.lstm_body = nn.LSTM(embedding_dim,hidden_dim,batch_first = True)\n",
    "        # We use dropout before the final layer to improve with regularization\n",
    "        \n",
    "\n",
    "        # The fully-connected layer takes in the hidden dim of the LSTM and\n",
    "        #  outputs a a 3x1 vector of the class scores.\n",
    "        self.fc_init = nn.Linear(3*hidden_dim+1, mlp_layers) \n",
    "        self.rel = nn.ReLU()  \n",
    "        self.fc_final = nn.Linear(mlp_layers,2)\n",
    "        \n",
    "\n",
    "    def forward(self, x, hidden):\n",
    "        \"\"\"\n",
    "        The forward method takes in the input and the previous hidden state \n",
    "        \"\"\"\n",
    "\n",
    "        # The input is transformed to embeddings by passing it to the embedding layer\n",
    "        outA,hiddenA = self.lstm_head(x[:,:self.wh,:]) \n",
    "        outB,hiddenB  = self.lstm_body(x[:,self.wh:,:])\n",
    "\n",
    "        # The embedded inputs are fed to the LSTM alongside the previous hidden state\n",
    "        hA = outA.sum(1) \n",
    "        hB = outB.sum(1)\n",
    "        ### calculate_comps \n",
    "        compA = hA - hB \n",
    "        compB = torch.cat((hA,hB) , 1) \n",
    "        ##compC = torch.from_numpy(np.array([torch.dot(hA,hB)]))   \n",
    "        dot_products = [] \n",
    "        for i in range(hA.shape[0]):  \n",
    "            hAmod= torch.sqrt(torch.dot(hA[i,:],hA[i,:])) \n",
    "            hBmod = torch.sqrt(torch.dot(hB[i,:],hB[i,:]))\n",
    "            dot_products.append([torch.dot(hA[i,:],hB[i,:])/((hAmod+1)*(hBmod+1))]) \n",
    "        compC = torch.tensor(dot_products,dtype = torch.float32) \n",
    "        \n",
    "            \n",
    "      \n",
    "        fincomp = torch.cat((compB,compA,compC) , 1) \n",
    "        \n",
    "        ### feeding it to first_mlp \n",
    "        out_ua = self.fc_init(fincomp) \n",
    "        out_a = self.rel(out_ua)\n",
    "        out_fin = self.fc_final(out_a)\n",
    "\n",
    "        return out_fin, hidden\n",
    "    \n",
    "    def init_hidden(self):\n",
    "        return (torch.zeros(1,batch_size,32), torch.zeros(1,batch_size,32))"
   ]
  },
  {
   "cell_type": "code",
   "execution_count": 34,
   "id": "4802396d",
   "metadata": {},
   "outputs": [],
   "source": [
    "def trainer(train_model,train_optimizer,train_criterion,train_device):\n",
    "    epochs = 40\n",
    "    losses = []\n",
    "    for e in range(epochs):\n",
    "\n",
    "        h0, c0 =  train_model.init_hidden()\n",
    "\n",
    "        h0 = h0.to(train_device)\n",
    "        c0 = c0.to(train_device)\n",
    "\n",
    "    #     for i in range(800):\n",
    "\n",
    "    #         input = X_train[i,:,:] \n",
    "    #         input = input.to(torch.float32)\n",
    "    #         target = y_train[i]\n",
    "\n",
    "    #         optimizer.zero_grad()\n",
    "    #         with torch.set_grad_enabled(True):\n",
    "    #             out, hidden = model(input, (h0, c0))\n",
    "    #             loss = criterion(out, target)\n",
    "    #             loss.backward()\n",
    "    #             optimizer.step() \n",
    "        for batch_idx, batch in enumerate(train_dl):\n",
    "\n",
    "            input = batch[0].to(train_device)\n",
    "            target = batch[1].to(train_device) \n",
    "            input = input.to(torch.float32)\n",
    "\n",
    "            train_optimizer.zero_grad()\n",
    "            with torch.set_grad_enabled(True):\n",
    "                out, hidden = train_model(input, (h0, c0))\n",
    "                loss = train_criterion(out, target)\n",
    "                loss.backward()\n",
    "                train_optimizer.step()\n",
    "        losses.append(loss.item()) \n",
    "    return losses "
   ]
  },
  {
   "cell_type": "code",
   "execution_count": 35,
   "id": "4f6511cb",
   "metadata": {},
   "outputs": [],
   "source": [
    "def tester(test_model,test_optimizer,test_device):\n",
    "    batch_acc = []\n",
    "    for batch_idx, batch in enumerate(test_dl):\n",
    "        h0, c0 =  test_model.init_hidden()\n",
    "        input = batch[0].to(test_device)\n",
    "        target = batch[1].to(test_device)\n",
    "        input = input.to(torch.float32)\n",
    "        test_optimizer.zero_grad()\n",
    "        with torch.set_grad_enabled(False):\n",
    "            out, hidden = test_model(input, (h0, c0))\n",
    "            _, preds = torch.max(out, 1)\n",
    "            preds = preds.to(\"cpu\").tolist()\n",
    "            batch_acc.append(accuracy_score(preds, target.tolist()))\n",
    "\n",
    "    return (sum(batch_acc)/len(batch_acc))"
   ]
  },
  {
   "cell_type": "code",
   "execution_count": 41,
   "id": "9b0b24bc",
   "metadata": {},
   "outputs": [],
   "source": [
    "def train_and_test(model,model_name,device):  \n",
    "    model.to(device)  \n",
    "    print(model)\n",
    "    criterion = nn.CrossEntropyLoss()\n",
    "    optimizer = torch.optim.Adam(model.parameters(), lr = 3e-4) \n",
    "    print(\"training begins\")\n",
    "    losses = trainer(model,optimizer,criterion,device) \n",
    "    print(\"training ends\")\n",
    "    print(\"losses are \")\n",
    "    plt.plot(losses) \n",
    "\n",
    "    finacc = tester(model,optimizer,device) \n",
    "    print(\"for \" + model_name + \"accuracy is \")\n",
    "    print(finacc)"
   ]
  },
  {
   "cell_type": "code",
   "execution_count": 42,
   "id": "bc596e57",
   "metadata": {},
   "outputs": [
    {
     "name": "stdout",
     "output_type": "stream",
     "text": [
      "FNC_BERTopicModel(\n",
      "  (lstm_head): LSTM(143, 70, batch_first=True)\n",
      "  (lstm_body): LSTM(143, 70, batch_first=True)\n",
      "  (fc_init): Linear(in_features=210, out_features=15, bias=True)\n",
      "  (rel): ReLU()\n",
      "  (fc_final): Linear(in_features=15, out_features=2, bias=True)\n",
      ")\n",
      "training begins\n",
      "training ends\n",
      "losses are \n",
      "for FNC_Bert_no_dotaccuracy is \n",
      "0.7708333333333334\n"
     ]
    },
    {
     "data": {
      "image/png": "[encoded data removed]",
      "text/plain": [
       "<Figure size 432x288 with 1 Axes>"
      ]
     },
     "metadata": {
      "needs_background": "light"
     },
     "output_type": "display_data"
    }
   ],
   "source": [
    "train_and_test(FNC_BERTopicModel(X_test.shape[2],12,300,70,15) , \"FNC_Bert_no_dot\" , device)"
   ]
  },
  {
   "cell_type": "code",
   "execution_count": null,
   "id": "505e0a52",
   "metadata": {},
   "outputs": [
    {
     "name": "stdout",
     "output_type": "stream",
     "text": [
      "FNC_BERTopicModel_withDot(\n",
      "  (lstm_head): LSTM(143, 70, batch_first=True)\n",
      "  (lstm_body): LSTM(143, 70, batch_first=True)\n",
      "  (fc_init): Linear(in_features=211, out_features=15, bias=True)\n",
      "  (rel): ReLU()\n",
      "  (fc_final): Linear(in_features=15, out_features=2, bias=True)\n",
      ")\n",
      "training begins\n"
     ]
    }
   ],
   "source": [
    "train_and_test(FNC_BERTopicModel_withDot(X_test.shape[2],12,300,70,15) , \"FNC_Bert_with_dot\" , device)"
   ]
  },
  {
   "cell_type": "code",
   "execution_count": null,
   "id": "d1b66c84",
   "metadata": {},
   "outputs": [],
   "source": []
  }
 ],
 "metadata": {
  "kernelspec": {
   "display_name": "Python 3 (ipykernel)",
   "language": "python",
   "name": "python3"
  },
  "language_info": {
   "codemirror_mode": {
    "name": "ipython",
    "version": 3
   },
   "file_extension": ".py",
   "mimetype": "text/x-python",
   "name": "python",
   "nbconvert_exporter": "python",
   "pygments_lexer": "ipython3",
   "version": "3.9.7"
  }
 },
 "nbformat": 4,
 "nbformat_minor": 5
}

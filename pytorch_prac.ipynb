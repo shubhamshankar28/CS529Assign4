{
 "cells": [
  {
   "cell_type": "code",
   "execution_count": 11,
   "id": "eb675dcf",
   "metadata": {},
   "outputs": [],
   "source": [
    "import torch \n",
    "import numpy as np"
   ]
  },
  {
   "cell_type": "code",
   "execution_count": 9,
   "id": "7f53afa6",
   "metadata": {},
   "outputs": [
    {
     "data": {
      "text/plain": [
       "tensor([[3., 3., 3., 3.],\n",
       "        [3., 3., 3., 3.]])"
      ]
     },
     "execution_count": 9,
     "metadata": {},
     "output_type": "execute_result"
    }
   ],
   "source": [
    "tensor = torch.ones(2,3,4) \n",
    "tensor.sum(1) \n",
    "\n"
   ]
  },
  {
   "cell_type": "code",
   "execution_count": 13,
   "id": "fe4942f1",
   "metadata": {},
   "outputs": [],
   "source": [
    "tensor = torch.from_numpy(np.arange(18).reshape(6,3)) \n"
   ]
  },
  {
   "cell_type": "code",
   "execution_count": 15,
   "id": "1f9416c2",
   "metadata": {},
   "outputs": [
    {
     "data": {
      "text/plain": [
       "tensor([[0, 1, 2],\n",
       "        [3, 4, 5]], dtype=torch.int32)"
      ]
     },
     "execution_count": 15,
     "metadata": {},
     "output_type": "execute_result"
    }
   ],
   "source": [
    "tensor[:2,:]"
   ]
  },
  {
   "cell_type": "code",
   "execution_count": 16,
   "id": "c6a03141",
   "metadata": {},
   "outputs": [
    {
     "data": {
      "text/plain": [
       "tensor([[ 6,  7,  8],\n",
       "        [ 9, 10, 11],\n",
       "        [12, 13, 14],\n",
       "        [15, 16, 17]], dtype=torch.int32)"
      ]
     },
     "execution_count": 16,
     "metadata": {},
     "output_type": "execute_result"
    }
   ],
   "source": [
    "tensor[2:,:]"
   ]
  },
  {
   "cell_type": "code",
   "execution_count": 22,
   "id": "ff00675c",
   "metadata": {},
   "outputs": [],
   "source": [
    "cc = tensor[1,:]-tensor[2,:]"
   ]
  },
  {
   "cell_type": "code",
   "execution_count": 23,
   "id": "6db5c50d",
   "metadata": {},
   "outputs": [],
   "source": [
    "cb = torch.cat((tensor[1,:],tensor[2,:]),0)"
   ]
  },
  {
   "cell_type": "code",
   "execution_count": 27,
   "id": "96891b8d",
   "metadata": {},
   "outputs": [],
   "source": [
    "ca = torch.dot(tensor[1,:],tensor[2,:]) \n",
    "cf = torch.from_numpy(np.array([ca]))"
   ]
  },
  {
   "cell_type": "code",
   "execution_count": 28,
   "id": "0b5b3c8f",
   "metadata": {},
   "outputs": [
    {
     "data": {
      "text/plain": [
       "tensor([86,  3,  4,  5,  6,  7,  8, -3, -3, -3], dtype=torch.int32)"
      ]
     },
     "execution_count": 28,
     "metadata": {},
     "output_type": "execute_result"
    }
   ],
   "source": [
    "torch.cat((cf,cb,cc) , 0)"
   ]
  },
  {
   "cell_type": "code",
   "execution_count": 31,
   "id": "ff51bc54",
   "metadata": {},
   "outputs": [
    {
     "data": {
      "text/plain": [
       "tensor([45, 51, 57])"
      ]
     },
     "execution_count": 31,
     "metadata": {},
     "output_type": "execute_result"
    }
   ],
   "source": [
    "tensor.sum(0)"
   ]
  },
  {
   "cell_type": "code",
   "execution_count": 40,
   "id": "2aabcf3f",
   "metadata": {},
   "outputs": [
    {
     "name": "stdout",
     "output_type": "stream",
     "text": [
      "tensor([[3., 3., 3., 3.],\n",
      "        [3., 3., 3., 3.]])\n",
      "tensor([[6., 6., 6., 6.],\n",
      "        [6., 6., 6., 6.]])\n",
      "tensor([[-3., -3., -3., -3.],\n",
      "        [-3., -3., -3., -3.]])\n",
      "tensor([[3., 3., 3., 3., 6., 6., 6., 6.],\n",
      "        [3., 3., 3., 3., 6., 6., 6., 6.]])\n",
      "tensor([[-3., -3., -3., -3.,  3.,  3.,  3.,  3.,  6.,  6.,  6.,  6.],\n",
      "        [-3., -3., -3., -3.,  3.,  3.,  3.,  3.,  6.,  6.,  6.,  6.]])\n"
     ]
    }
   ],
   "source": [
    "tenstest = torch.ones(2,3,4) \n",
    "ca= tenstest.sum(1)\n",
    "tentest2 = torch.ones(2,3,4) \n",
    "tentest2 = tentest2 + 1\n",
    "cb = tentest2.sum(1) \n",
    "print(ca) \n",
    "print(cb)\n",
    "da = ca-cb \n",
    "concab = torch.cat((ca,cb),1) \n",
    "print(da) \n",
    "print(concab) \n",
    "finab = torch.cat((da,concab) , 1) \n",
    "print(finab)"
   ]
  },
  {
   "cell_type": "code",
   "execution_count": 47,
   "id": "b5129128",
   "metadata": {},
   "outputs": [
    {
     "name": "stderr",
     "output_type": "stream",
     "text": [
      "C:\\Users\\msgto\\AppData\\Local\\Temp\\ipykernel_24504\\2918899180.py:1: UserWarning: An output with one or more elements was resized since it had shape [1], which does not match the required output shape [].This behavior is deprecated, and in a future PyTorch release outputs will not be resized unless they have zero elements. You can explicitly reuse an out tensor t by resizing it, inplace, to zero elements with t.resize_(0). (Triggered internally at  C:\\actions-runner\\_work\\pytorch\\pytorch\\builder\\windows\\pytorch\\aten\\src\\ATen\\native\\Resize.cpp:24.)\n",
      "  torch.dot(ca[0,:],cb[0,:],out = torch.tensor([1.0]))\n"
     ]
    },
    {
     "data": {
      "text/plain": [
       "tensor(72.)"
      ]
     },
     "execution_count": 47,
     "metadata": {},
     "output_type": "execute_result"
    }
   ],
   "source": [
    "torch.dot(ca[0,:],cb[0,:],out = torch.tensor([1.0]))"
   ]
  },
  {
   "cell_type": "code",
   "execution_count": 53,
   "id": "ffcfdde9",
   "metadata": {},
   "outputs": [
    {
     "ename": "RuntimeError",
     "evalue": "Sizes of tensors must match except in dimension 0. Expected size 0 but got size 1 for tensor number 1 in the list.",
     "output_type": "error",
     "traceback": [
      "\u001b[1;31m---------------------------------------------------------------------------\u001b[0m",
      "\u001b[1;31mRuntimeError\u001b[0m                              Traceback (most recent call last)",
      "Input \u001b[1;32mIn [53]\u001b[0m, in \u001b[0;36m<module>\u001b[1;34m\u001b[0m\n\u001b[0;32m      1\u001b[0m c \u001b[38;5;241m=\u001b[39m torch\u001b[38;5;241m.\u001b[39mtensor([[]]) \n\u001b[0;32m      2\u001b[0m \u001b[38;5;28;01mfor\u001b[39;00m i \u001b[38;5;129;01min\u001b[39;00m \u001b[38;5;28mrange\u001b[39m(\u001b[38;5;241m2\u001b[39m): \n\u001b[1;32m----> 3\u001b[0m     c \u001b[38;5;241m=\u001b[39m \u001b[43mtorch\u001b[49m\u001b[38;5;241;43m.\u001b[39;49m\u001b[43mcat\u001b[49m\u001b[43m(\u001b[49m\u001b[43m(\u001b[49m\u001b[43mc\u001b[49m\u001b[43m,\u001b[49m\u001b[43mtorch\u001b[49m\u001b[38;5;241;43m.\u001b[39;49m\u001b[43mtensor\u001b[49m\u001b[43m(\u001b[49m\u001b[43m[\u001b[49m\u001b[43m[\u001b[49m\u001b[43mtorch\u001b[49m\u001b[38;5;241;43m.\u001b[39;49m\u001b[43mdot\u001b[49m\u001b[43m(\u001b[49m\u001b[43mca\u001b[49m\u001b[43m[\u001b[49m\u001b[43mi\u001b[49m\u001b[43m,\u001b[49m\u001b[43m:\u001b[49m\u001b[43m]\u001b[49m\u001b[43m,\u001b[49m\u001b[43mcb\u001b[49m\u001b[43m[\u001b[49m\u001b[43mi\u001b[49m\u001b[43m,\u001b[49m\u001b[43m:\u001b[49m\u001b[43m]\u001b[49m\u001b[43m)\u001b[49m\u001b[43m]\u001b[49m\u001b[43m]\u001b[49m\u001b[43m)\u001b[49m\u001b[43m)\u001b[49m\u001b[43m,\u001b[49m\u001b[38;5;241;43m0\u001b[39;49m\u001b[43m)\u001b[49m \n\u001b[0;32m      4\u001b[0m \u001b[38;5;28mprint\u001b[39m(c)\n",
      "\u001b[1;31mRuntimeError\u001b[0m: Sizes of tensors must match except in dimension 0. Expected size 0 but got size 1 for tensor number 1 in the list."
     ]
    }
   ],
   "source": [
    "c = torch.tensor([[]]) \n",
    "for i in range(2): \n",
    "    c = torch.cat((c,torch.tensor([[torch.dot(ca[i,:],cb[i,:])]])),0) \n",
    "print(c)"
   ]
  },
  {
   "cell_type": "code",
   "execution_count": null,
   "id": "c2229f2c",
   "metadata": {},
   "outputs": [],
   "source": []
  }
 ],
 "metadata": {
  "kernelspec": {
   "display_name": "Python 3 (ipykernel)",
   "language": "python",
   "name": "python3"
  },
  "language_info": {
   "codemirror_mode": {
    "name": "ipython",
    "version": 3
   },
   "file_extension": ".py",
   "mimetype": "text/x-python",
   "name": "python",
   "nbconvert_exporter": "python",
   "pygments_lexer": "ipython3",
   "version": "3.9.7"
  }
 },
 "nbformat": 4,
 "nbformat_minor": 5
}
